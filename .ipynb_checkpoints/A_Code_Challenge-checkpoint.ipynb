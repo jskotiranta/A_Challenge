{
 "cells": [
  {
   "cell_type": "code",
   "execution_count": null,
   "id": "63f157db",
   "metadata": {},
   "outputs": [],
   "source": [
    "#The AILEA Code Challenge\n",
    "#Let's make some stock market analysis here :)"
   ]
  },
  {
   "cell_type": "code",
   "execution_count": 1,
   "id": "c28f0199",
   "metadata": {},
   "outputs": [
    {
     "name": "stdout",
     "output_type": "stream",
     "text": [
      "   Symbol\n",
      "0    AACG\n",
      "1    AACI\n",
      "2   AACIU\n",
      "3   AACIW\n",
      "4    AADI\n",
      "5    AADR\n",
      "6     AAL\n",
      "7    AAME\n",
      "8    AAOI\n",
      "9    AAON\n",
      "10   AAPB\n",
      "11   AAPD\n",
      "12   AAPL\n",
      "13   AAPU\n",
      "14   AATC\n",
      "15   AAWW\n",
      "16   AAXJ\n",
      "17   ABCB\n",
      "18   ABCL\n",
      "19   ABCM\n",
      "20   ABEO\n",
      "21   ABGI\n",
      "22   ABIO\n",
      "23   ABMD\n",
      "24   ABNB\n",
      "25   ABOS\n",
      "26   ABSI\n",
      "27   ABST\n",
      "28   ABTX\n",
      "29   ABUS\n",
      "30   ABVC\n",
      "31   ACAB\n",
      "32  ACABU\n",
      "33  ACABW\n",
      "34   ACAC\n",
      "35  ACACU\n",
      "36  ACACW\n",
      "37   ACAD\n",
      "38   ACAH\n",
      "39  ACAHU\n",
      "40  ACAHW\n",
      "41   ACAX\n",
      "42  ACAXR\n",
      "43  ACAXU\n",
      "44  ACAXW\n",
      "45    ACB\n",
      "46   ACBA\n",
      "47  ACBAU\n",
      "48  ACBAW\n",
      "49   ACCD\n"
     ]
    }
   ],
   "source": [
    "import ftplib\n",
    "import pandas as pd\n",
    "\n",
    "def get_symbols():\n",
    "    #STEP1: this function retrieves teh symbols of interest from the NASDAQ\n",
    "    #connection to the server\n",
    "    #username and passwd required!\n",
    "    ftp = ftplib.FTP('ftp.nasdaqtrader.com', 'Anonymous', 'guest')\n",
    "    \n",
    "    #retrieving the data file into our local directory\n",
    "    ftp.cwd('/symboldirectory/')\n",
    "    filename = 'nasdaqlisted.txt'\n",
    "    ftp.retrbinary('RETR ' + filename, open(filename, 'wb').write)\n",
    "    ftplib.FTP.quit(ftp) #polite exit\n",
    "    \n",
    "    #extract just 50 first ones into data frame\n",
    "    df = pd.read_csv(filename, sep='|', usecols=['Symbol'])\n",
    "    #df.sort_values('Symbol') #actually useless as the list seems to be in order anyways\n",
    "    return df.head(50)\n",
    "\n",
    "companies = get_symbols()\n",
    "print(companies)"
   ]
  },
  {
   "cell_type": "code",
   "execution_count": null,
   "id": "1fd29785",
   "metadata": {},
   "outputs": [],
   "source": []
  }
 ],
 "metadata": {
  "kernelspec": {
   "display_name": "Python 3 (ipykernel)",
   "language": "python",
   "name": "python3"
  },
  "language_info": {
   "codemirror_mode": {
    "name": "ipython",
    "version": 3
   },
   "file_extension": ".py",
   "mimetype": "text/x-python",
   "name": "python",
   "nbconvert_exporter": "python",
   "pygments_lexer": "ipython3",
   "version": "3.8.12"
  }
 },
 "nbformat": 4,
 "nbformat_minor": 5
}
